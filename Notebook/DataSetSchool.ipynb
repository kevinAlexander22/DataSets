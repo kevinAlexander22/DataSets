{
 "cells": [
  {
   "cell_type": "code",
   "execution_count": 2,
   "id": "6556afb5-fb1a-40df-8a84-5061f0722706",
   "metadata": {},
   "outputs": [],
   "source": [
    "import pandas as pd"
   ]
  },
  {
   "cell_type": "code",
   "execution_count": 3,
   "id": "69a12eec-f71a-4824-b93a-95be1a862c76",
   "metadata": {},
   "outputs": [],
   "source": [
    "import pandas "
   ]
  },
  {
   "cell_type": "code",
   "execution_count": 5,
   "id": "1c0587e1-7e24-4443-84bc-2705232b1c13",
   "metadata": {},
   "outputs": [
    {
     "data": {
      "text/html": [
       "<div>\n",
       "<style scoped>\n",
       "    .dataframe tbody tr th:only-of-type {\n",
       "        vertical-align: middle;\n",
       "    }\n",
       "\n",
       "    .dataframe tbody tr th {\n",
       "        vertical-align: top;\n",
       "    }\n",
       "\n",
       "    .dataframe thead th {\n",
       "        text-align: right;\n",
       "    }\n",
       "</style>\n",
       "<table border=\"1\" class=\"dataframe\">\n",
       "  <thead>\n",
       "    <tr style=\"text-align: right;\">\n",
       "      <th></th>\n",
       "      <th>School DBN</th>\n",
       "      <th>Date</th>\n",
       "      <th>Enrolled</th>\n",
       "      <th>Absent</th>\n",
       "      <th>Present</th>\n",
       "      <th>Released</th>\n",
       "    </tr>\n",
       "  </thead>\n",
       "  <tbody>\n",
       "    <tr>\n",
       "      <th>0</th>\n",
       "      <td>01M015</td>\n",
       "      <td>20180905</td>\n",
       "      <td>172</td>\n",
       "      <td>19</td>\n",
       "      <td>153</td>\n",
       "      <td>0</td>\n",
       "    </tr>\n",
       "    <tr>\n",
       "      <th>1</th>\n",
       "      <td>01M015</td>\n",
       "      <td>20180906</td>\n",
       "      <td>171</td>\n",
       "      <td>17</td>\n",
       "      <td>154</td>\n",
       "      <td>0</td>\n",
       "    </tr>\n",
       "    <tr>\n",
       "      <th>2</th>\n",
       "      <td>01M015</td>\n",
       "      <td>20180907</td>\n",
       "      <td>172</td>\n",
       "      <td>14</td>\n",
       "      <td>158</td>\n",
       "      <td>0</td>\n",
       "    </tr>\n",
       "    <tr>\n",
       "      <th>3</th>\n",
       "      <td>01M015</td>\n",
       "      <td>20180912</td>\n",
       "      <td>173</td>\n",
       "      <td>7</td>\n",
       "      <td>166</td>\n",
       "      <td>0</td>\n",
       "    </tr>\n",
       "    <tr>\n",
       "      <th>4</th>\n",
       "      <td>01M015</td>\n",
       "      <td>20180913</td>\n",
       "      <td>173</td>\n",
       "      <td>9</td>\n",
       "      <td>164</td>\n",
       "      <td>0</td>\n",
       "    </tr>\n",
       "  </tbody>\n",
       "</table>\n",
       "</div>"
      ],
      "text/plain": [
       "  School DBN      Date  Enrolled  Absent  Present  Released\n",
       "0     01M015  20180905       172      19      153         0\n",
       "1     01M015  20180906       171      17      154         0\n",
       "2     01M015  20180907       172      14      158         0\n",
       "3     01M015  20180912       173       7      166         0\n",
       "4     01M015  20180913       173       9      164         0"
      ]
     },
     "execution_count": 5,
     "metadata": {},
     "output_type": "execute_result"
    }
   ],
   "source": [
    "df = pd.read_csv('https://raw.githubusercontent.com/kevinAlexander22/DataSets/main/School.csv')\n",
    "df.head()"
   ]
  },
  {
   "cell_type": "code",
   "execution_count": 6,
   "id": "739d59b0-7632-4fa4-a5bb-5eace3e7d009",
   "metadata": {},
   "outputs": [
    {
     "data": {
      "text/plain": [
       "pandas.core.frame.DataFrame"
      ]
     },
     "execution_count": 6,
     "metadata": {},
     "output_type": "execute_result"
    }
   ],
   "source": [
    "type(df)"
   ]
  },
  {
   "cell_type": "code",
   "execution_count": 7,
   "id": "fa15cfb9-dffc-48a2-82ca-69e4965cb9a4",
   "metadata": {},
   "outputs": [
    {
     "data": {
      "text/plain": [
       "(277153, 6)"
      ]
     },
     "execution_count": 7,
     "metadata": {},
     "output_type": "execute_result"
    }
   ],
   "source": [
    "df.shape"
   ]
  },
  {
   "cell_type": "code",
   "execution_count": 8,
   "id": "d7d6f023-4ec6-4429-b1d1-f50b5f3df656",
   "metadata": {},
   "outputs": [
    {
     "data": {
      "text/html": [
       "<div>\n",
       "<style scoped>\n",
       "    .dataframe tbody tr th:only-of-type {\n",
       "        vertical-align: middle;\n",
       "    }\n",
       "\n",
       "    .dataframe tbody tr th {\n",
       "        vertical-align: top;\n",
       "    }\n",
       "\n",
       "    .dataframe thead th {\n",
       "        text-align: right;\n",
       "    }\n",
       "</style>\n",
       "<table border=\"1\" class=\"dataframe\">\n",
       "  <thead>\n",
       "    <tr style=\"text-align: right;\">\n",
       "      <th></th>\n",
       "      <th>Date</th>\n",
       "      <th>Enrolled</th>\n",
       "      <th>Absent</th>\n",
       "      <th>Present</th>\n",
       "      <th>Released</th>\n",
       "    </tr>\n",
       "  </thead>\n",
       "  <tbody>\n",
       "    <tr>\n",
       "      <th>count</th>\n",
       "      <td>2.771530e+05</td>\n",
       "      <td>277153.00000</td>\n",
       "      <td>277153.000000</td>\n",
       "      <td>277153.000000</td>\n",
       "      <td>277153.000000</td>\n",
       "    </tr>\n",
       "    <tr>\n",
       "      <th>mean</th>\n",
       "      <td>2.018665e+07</td>\n",
       "      <td>596.98617</td>\n",
       "      <td>50.503538</td>\n",
       "      <td>544.499403</td>\n",
       "      <td>1.983229</td>\n",
       "    </tr>\n",
       "    <tr>\n",
       "      <th>std</th>\n",
       "      <td>4.555413e+03</td>\n",
       "      <td>482.90966</td>\n",
       "      <td>54.329671</td>\n",
       "      <td>452.970313</td>\n",
       "      <td>35.114511</td>\n",
       "    </tr>\n",
       "    <tr>\n",
       "      <th>min</th>\n",
       "      <td>2.018090e+07</td>\n",
       "      <td>1.00000</td>\n",
       "      <td>0.000000</td>\n",
       "      <td>1.000000</td>\n",
       "      <td>0.000000</td>\n",
       "    </tr>\n",
       "    <tr>\n",
       "      <th>25%</th>\n",
       "      <td>2.018111e+07</td>\n",
       "      <td>329.00000</td>\n",
       "      <td>23.000000</td>\n",
       "      <td>291.000000</td>\n",
       "      <td>0.000000</td>\n",
       "    </tr>\n",
       "    <tr>\n",
       "      <th>50%</th>\n",
       "      <td>2.019013e+07</td>\n",
       "      <td>476.00000</td>\n",
       "      <td>38.000000</td>\n",
       "      <td>430.000000</td>\n",
       "      <td>0.000000</td>\n",
       "    </tr>\n",
       "    <tr>\n",
       "      <th>75%</th>\n",
       "      <td>2.019041e+07</td>\n",
       "      <td>684.00000</td>\n",
       "      <td>59.000000</td>\n",
       "      <td>640.000000</td>\n",
       "      <td>0.000000</td>\n",
       "    </tr>\n",
       "    <tr>\n",
       "      <th>max</th>\n",
       "      <td>2.019063e+07</td>\n",
       "      <td>5955.00000</td>\n",
       "      <td>2151.000000</td>\n",
       "      <td>5847.000000</td>\n",
       "      <td>5904.000000</td>\n",
       "    </tr>\n",
       "  </tbody>\n",
       "</table>\n",
       "</div>"
      ],
      "text/plain": [
       "               Date      Enrolled         Absent        Present       Released\n",
       "count  2.771530e+05  277153.00000  277153.000000  277153.000000  277153.000000\n",
       "mean   2.018665e+07     596.98617      50.503538     544.499403       1.983229\n",
       "std    4.555413e+03     482.90966      54.329671     452.970313      35.114511\n",
       "min    2.018090e+07       1.00000       0.000000       1.000000       0.000000\n",
       "25%    2.018111e+07     329.00000      23.000000     291.000000       0.000000\n",
       "50%    2.019013e+07     476.00000      38.000000     430.000000       0.000000\n",
       "75%    2.019041e+07     684.00000      59.000000     640.000000       0.000000\n",
       "max    2.019063e+07    5955.00000    2151.000000    5847.000000    5904.000000"
      ]
     },
     "execution_count": 8,
     "metadata": {},
     "output_type": "execute_result"
    }
   ],
   "source": [
    "df.describe()"
   ]
  },
  {
   "cell_type": "code",
   "execution_count": 9,
   "id": "e24af147-94a6-4b98-bb28-93ca77ef3f23",
   "metadata": {},
   "outputs": [
    {
     "data": {
      "text/html": [
       "<div>\n",
       "<style scoped>\n",
       "    .dataframe tbody tr th:only-of-type {\n",
       "        vertical-align: middle;\n",
       "    }\n",
       "\n",
       "    .dataframe tbody tr th {\n",
       "        vertical-align: top;\n",
       "    }\n",
       "\n",
       "    .dataframe thead th {\n",
       "        text-align: right;\n",
       "    }\n",
       "</style>\n",
       "<table border=\"1\" class=\"dataframe\">\n",
       "  <thead>\n",
       "    <tr style=\"text-align: right;\">\n",
       "      <th></th>\n",
       "      <th>Present</th>\n",
       "      <th>Date</th>\n",
       "    </tr>\n",
       "  </thead>\n",
       "  <tbody>\n",
       "    <tr>\n",
       "      <th>0</th>\n",
       "      <td>153</td>\n",
       "      <td>20180905</td>\n",
       "    </tr>\n",
       "    <tr>\n",
       "      <th>1</th>\n",
       "      <td>154</td>\n",
       "      <td>20180906</td>\n",
       "    </tr>\n",
       "    <tr>\n",
       "      <th>2</th>\n",
       "      <td>158</td>\n",
       "      <td>20180907</td>\n",
       "    </tr>\n",
       "    <tr>\n",
       "      <th>3</th>\n",
       "      <td>166</td>\n",
       "      <td>20180912</td>\n",
       "    </tr>\n",
       "    <tr>\n",
       "      <th>4</th>\n",
       "      <td>164</td>\n",
       "      <td>20180913</td>\n",
       "    </tr>\n",
       "    <tr>\n",
       "      <th>...</th>\n",
       "      <td>...</td>\n",
       "      <td>...</td>\n",
       "    </tr>\n",
       "    <tr>\n",
       "      <th>277148</th>\n",
       "      <td>136</td>\n",
       "      <td>20190620</td>\n",
       "    </tr>\n",
       "    <tr>\n",
       "      <th>277149</th>\n",
       "      <td>128</td>\n",
       "      <td>20190621</td>\n",
       "    </tr>\n",
       "    <tr>\n",
       "      <th>277150</th>\n",
       "      <td>130</td>\n",
       "      <td>20190624</td>\n",
       "    </tr>\n",
       "    <tr>\n",
       "      <th>277151</th>\n",
       "      <td>127</td>\n",
       "      <td>20190625</td>\n",
       "    </tr>\n",
       "    <tr>\n",
       "      <th>277152</th>\n",
       "      <td>68</td>\n",
       "      <td>20190626</td>\n",
       "    </tr>\n",
       "  </tbody>\n",
       "</table>\n",
       "<p>277153 rows × 2 columns</p>\n",
       "</div>"
      ],
      "text/plain": [
       "        Present      Date\n",
       "0           153  20180905\n",
       "1           154  20180906\n",
       "2           158  20180907\n",
       "3           166  20180912\n",
       "4           164  20180913\n",
       "...         ...       ...\n",
       "277148      136  20190620\n",
       "277149      128  20190621\n",
       "277150      130  20190624\n",
       "277151      127  20190625\n",
       "277152       68  20190626\n",
       "\n",
       "[277153 rows x 2 columns]"
      ]
     },
     "execution_count": 9,
     "metadata": {},
     "output_type": "execute_result"
    }
   ],
   "source": [
    "df[['Present', 'Date']]"
   ]
  },
  {
   "cell_type": "code",
   "execution_count": 10,
   "id": "11d46d17-9dd0-40fb-a3a2-05bbc86b9e77",
   "metadata": {},
   "outputs": [
    {
     "data": {
      "text/html": [
       "<div>\n",
       "<style scoped>\n",
       "    .dataframe tbody tr th:only-of-type {\n",
       "        vertical-align: middle;\n",
       "    }\n",
       "\n",
       "    .dataframe tbody tr th {\n",
       "        vertical-align: top;\n",
       "    }\n",
       "\n",
       "    .dataframe thead th {\n",
       "        text-align: right;\n",
       "    }\n",
       "</style>\n",
       "<table border=\"1\" class=\"dataframe\">\n",
       "  <thead>\n",
       "    <tr style=\"text-align: right;\">\n",
       "      <th></th>\n",
       "      <th>Absent</th>\n",
       "      <th>Date</th>\n",
       "    </tr>\n",
       "  </thead>\n",
       "  <tbody>\n",
       "    <tr>\n",
       "      <th>0</th>\n",
       "      <td>19</td>\n",
       "      <td>20180905</td>\n",
       "    </tr>\n",
       "    <tr>\n",
       "      <th>1</th>\n",
       "      <td>17</td>\n",
       "      <td>20180906</td>\n",
       "    </tr>\n",
       "    <tr>\n",
       "      <th>2</th>\n",
       "      <td>14</td>\n",
       "      <td>20180907</td>\n",
       "    </tr>\n",
       "    <tr>\n",
       "      <th>3</th>\n",
       "      <td>7</td>\n",
       "      <td>20180912</td>\n",
       "    </tr>\n",
       "    <tr>\n",
       "      <th>4</th>\n",
       "      <td>9</td>\n",
       "      <td>20180913</td>\n",
       "    </tr>\n",
       "    <tr>\n",
       "      <th>...</th>\n",
       "      <td>...</td>\n",
       "      <td>...</td>\n",
       "    </tr>\n",
       "    <tr>\n",
       "      <th>277148</th>\n",
       "      <td>46</td>\n",
       "      <td>20190620</td>\n",
       "    </tr>\n",
       "    <tr>\n",
       "      <th>277149</th>\n",
       "      <td>53</td>\n",
       "      <td>20190621</td>\n",
       "    </tr>\n",
       "    <tr>\n",
       "      <th>277150</th>\n",
       "      <td>42</td>\n",
       "      <td>20190624</td>\n",
       "    </tr>\n",
       "    <tr>\n",
       "      <th>277151</th>\n",
       "      <td>56</td>\n",
       "      <td>20190625</td>\n",
       "    </tr>\n",
       "    <tr>\n",
       "      <th>277152</th>\n",
       "      <td>27</td>\n",
       "      <td>20190626</td>\n",
       "    </tr>\n",
       "  </tbody>\n",
       "</table>\n",
       "<p>277153 rows × 2 columns</p>\n",
       "</div>"
      ],
      "text/plain": [
       "        Absent      Date\n",
       "0           19  20180905\n",
       "1           17  20180906\n",
       "2           14  20180907\n",
       "3            7  20180912\n",
       "4            9  20180913\n",
       "...        ...       ...\n",
       "277148      46  20190620\n",
       "277149      53  20190621\n",
       "277150      42  20190624\n",
       "277151      56  20190625\n",
       "277152      27  20190626\n",
       "\n",
       "[277153 rows x 2 columns]"
      ]
     },
     "execution_count": 10,
     "metadata": {},
     "output_type": "execute_result"
    }
   ],
   "source": [
    "df[['Absent', 'Date']]"
   ]
  },
  {
   "cell_type": "code",
   "execution_count": 11,
   "id": "859980c7-3d74-46de-a89d-1f4594818a30",
   "metadata": {},
   "outputs": [],
   "source": [
    "most_frequent_absent = df['Absent'].mode()[0]"
   ]
  },
  {
   "cell_type": "code",
   "execution_count": 12,
   "id": "4772d8a4-551c-48f7-abd4-45f6d80a6019",
   "metadata": {},
   "outputs": [
    {
     "data": {
      "text/plain": [
       "2151"
      ]
     },
     "execution_count": 12,
     "metadata": {},
     "output_type": "execute_result"
    }
   ],
   "source": [
    "df['Absent'].max()"
   ]
  },
  {
   "cell_type": "code",
   "execution_count": 13,
   "id": "8e710da4-56bc-4765-9595-55eba884ca50",
   "metadata": {},
   "outputs": [
    {
     "data": {
      "text/plain": [
       "231594"
      ]
     },
     "execution_count": 13,
     "metadata": {},
     "output_type": "execute_result"
    }
   ],
   "source": [
    "df['Absent'].idxmax()"
   ]
  },
  {
   "cell_type": "code",
   "execution_count": 14,
   "id": "46e0938a-64bd-4ed5-bfca-3d2db35f380f",
   "metadata": {},
   "outputs": [
    {
     "data": {
      "text/plain": [
       "School DBN      28Q505\n",
       "Date          20190617\n",
       "Enrolled          3148\n",
       "Absent            2151\n",
       "Present            995\n",
       "Released             2\n",
       "Name: 231594, dtype: object"
      ]
     },
     "execution_count": 14,
     "metadata": {},
     "output_type": "execute_result"
    }
   ],
   "source": [
    "df.loc[231594]"
   ]
  },
  {
   "cell_type": "code",
   "execution_count": 15,
   "id": "972cc72e-d865-47f6-a6b9-512ac4d38db0",
   "metadata": {},
   "outputs": [],
   "source": [
    "max_absent_index = df['Absent'].idxmax()"
   ]
  },
  {
   "cell_type": "code",
   "execution_count": 16,
   "id": "e4812c5a-b54b-43a0-8af2-0d39da847e97",
   "metadata": {},
   "outputs": [
    {
     "data": {
      "text/plain": [
       "School DBN      28Q505\n",
       "Date          20190617\n",
       "Enrolled          3148\n",
       "Absent            2151\n",
       "Present            995\n",
       "Released             2\n",
       "Name: 231594, dtype: object"
      ]
     },
     "execution_count": 16,
     "metadata": {},
     "output_type": "execute_result"
    }
   ],
   "source": [
    "df.loc[max_absent_index]"
   ]
  },
  {
   "cell_type": "code",
   "execution_count": 22,
   "id": "ed921896-7ca9-4ca5-9427-7cea345b4013",
   "metadata": {},
   "outputs": [],
   "source": [
    "df['Date'] = pd.to_datetime(df['Date'])\n"
   ]
  },
  {
   "cell_type": "code",
   "execution_count": 23,
   "id": "a4a745f3-e7da-47ce-b216-061044daf3f4",
   "metadata": {},
   "outputs": [
    {
     "data": {
      "text/plain": [
       "<Figure size 1000x600 with 0 Axes>"
      ]
     },
     "execution_count": 23,
     "metadata": {},
     "output_type": "execute_result"
    },
    {
     "data": {
      "text/plain": [
       "<Figure size 1000x600 with 0 Axes>"
      ]
     },
     "metadata": {},
     "output_type": "display_data"
    }
   ],
   "source": [
    "plt.figure(figsize=(10, 6))"
   ]
  },
  {
   "cell_type": "code",
   "execution_count": 35,
   "id": "cd1fd5d3-7629-4b57-a18c-22d6dcf1874c",
   "metadata": {},
   "outputs": [
    {
     "data": {
      "image/png": "[encoded data removed]",
      "text/plain": [
       "<Figure size 1000x600 with 1 Axes>"
      ]
     },
     "metadata": {},
     "output_type": "display_data"
    }
   ],
   "source": [
    "# Sumar los valores de las columnas 'Present', 'Absent' y 'Enrolled'\n",
    "total_present = df['Present'].sum()\n",
    "total_absent = df['Absent'].sum()\n",
    "total_enrolled = df['Enrolled'].sum()\n",
    "\n",
    "# Preparar los datos para el gráfico\n",
    "categories = ['Present', 'Absent', 'Enrolled']\n",
    "values = [total_present, total_absent, total_enrolled]\n",
    "\n",
    "# Configurar el gráfico\n",
    "plt.figure(figsize=(10, 6))\n",
    "\n",
    "# Crear el gráfico de barras\n",
    "plt.bar(categories, values, color=['g', 'b', 'r'])\n",
    "\n",
    "# Configurar los títulos y etiquetas\n",
    "plt.title('Total de Presencias, Ausencias y Matriculados')\n",
    "plt.xlabel('Categoría')\n",
    "plt.ylabel('Número de Estudiantes')\n",
    "\n",
    "# Mostrar el gráfico\n",
    "plt.show()"
   ]
  },
  {
   "cell_type": "code",
   "execution_count": 37,
   "id": "b860365d-102b-4413-a355-f865da54cbfd",
   "metadata": {},
   "outputs": [
    {
     "data": {
      "image/png": "[encoded data removed]",
      "text/plain": [
       "<Figure size 1000x600 with 1 Axes>"
      ]
     },
     "metadata": {},
     "output_type": "display_data"
    }
   ],
   "source": [
    "# Sumar los valores de las columnas 'Present', 'Absent' y 'Enrolled'\n",
    "total_present = df['Present'].sum()\n",
    "total_absent = df['Absent'].sum()\n",
    "total_enrolled = df['Enrolled'].sum()\n",
    "\n",
    "# Preparar los datos para el gráfico\n",
    "categories = ['Present', 'Absent', 'Enrolled']\n",
    "values = [total_present, total_absent, total_enrolled]\n",
    "\n",
    "# Configurar el gráfico\n",
    "plt.figure(figsize=(10, 6))\n",
    "\n",
    "# Crear el gráfico de líneas\n",
    "plt.plot(categories, values, marker='o', linestyle='-', color='b')\n",
    "\n",
    "# Configurar los títulos y etiquetas\n",
    "plt.title('Totales de Presencias, Ausencias y Matriculados')\n",
    "plt.xlabel('Categoría')\n",
    "plt.ylabel('Número de Estudiantes')\n",
    "\n",
    "# Mostrar el gráfico\n",
    "plt.show()"
   ]
  },
  {
   "cell_type": "code",
   "execution_count": null,
   "id": "9d4d0918-29a2-45f1-8839-cf539b8af0c1",
   "metadata": {},
   "outputs": [],
   "source": []
  }
 ],
 "metadata": {
  "kernelspec": {
   "display_name": "Python 3 (ipykernel)",
   "language": "python",
   "name": "python3"
  },
  "language_info": {
   "codemirror_mode": {
    "name": "ipython",
    "version": 3
   },
   "file_extension": ".py",
   "mimetype": "text/x-python",
   "name": "python",
   "nbconvert_exporter": "python",
   "pygments_lexer": "ipython3",
   "version": "3.11.7"
  }
 },
 "nbformat": 4,
 "nbformat_minor": 5
}
